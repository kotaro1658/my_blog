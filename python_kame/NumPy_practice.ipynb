{
 "cells": [
  {
   "cell_type": "code",
   "execution_count": 1,
   "id": "a2f212cd-b279-4557-93c1-af051d6a8217",
   "metadata": {},
   "outputs": [
    {
     "data": {
      "text/plain": [
       "float"
      ]
     },
     "execution_count": 1,
     "metadata": {},
     "output_type": "execute_result"
    }
   ],
   "source": [
    "type(1e-1)"
   ]
  },
  {
   "cell_type": "code",
   "execution_count": 2,
   "id": "4b6d8d58-a8fa-44e4-87b5-fd00cbfc06a8",
   "metadata": {},
   "outputs": [
    {
     "name": "stdout",
     "output_type": "stream",
     "text": [
      "single'quotation'inside\n"
     ]
    }
   ],
   "source": [
    "print(\"single'quotation'inside\")"
   ]
  },
  {
   "cell_type": "code",
   "execution_count": 5,
   "id": "7daac7f8-10f8-428b-8450-9190dbd9a5d5",
   "metadata": {},
   "outputs": [
    {
     "name": "stdout",
     "output_type": "stream",
     "text": [
      "{2, 3, 4, 5, 6, 7}\n"
     ]
    }
   ],
   "source": [
    "a = {2,3,4,5,3,4,4,5,6,7}\n",
    "print(a)"
   ]
  },
  {
   "cell_type": "code",
   "execution_count": 6,
   "id": "3d34c2c8-b527-475f-8782-126c21705399",
   "metadata": {},
   "outputs": [],
   "source": [
    "# NumPy"
   ]
  },
  {
   "cell_type": "code",
   "execution_count": 7,
   "id": "0e0afd30-8159-4dde-b26f-9242c566c8da",
   "metadata": {},
   "outputs": [],
   "source": [
    "import numpy as np"
   ]
  },
  {
   "cell_type": "code",
   "execution_count": 8,
   "id": "9a09dcb3-cafb-4af1-8431-04b2361e573d",
   "metadata": {},
   "outputs": [
    {
     "data": {
      "text/plain": [
       "array([[1, 2, 3],\n",
       "       [1, 2, 3],\n",
       "       [1, 2, 3]])"
      ]
     },
     "execution_count": 8,
     "metadata": {},
     "output_type": "execute_result"
    }
   ],
   "source": [
    "np_list = np.array([[1,2,3],[1,2,3],[1,2,3]])\n",
    "np_list"
   ]
  },
  {
   "cell_type": "code",
   "execution_count": 16,
   "id": "13667d04-367a-459b-a1b4-f1b70c998a5c",
   "metadata": {},
   "outputs": [],
   "source": [
    "array1 = np.array([1,2,3])\n",
    "array2 = np.array([[1,2,3],[4,5,6],[7,8,9]])"
   ]
  },
  {
   "cell_type": "code",
   "execution_count": 17,
   "id": "9746090c-0d64-419c-b038-ac248997cbd7",
   "metadata": {},
   "outputs": [
    {
     "name": "stdout",
     "output_type": "stream",
     "text": [
      "[[ 2  4  6]\n",
      " [ 5  7  9]\n",
      " [ 8 10 12]]\n",
      "[[ 0  0  0]\n",
      " [-3 -3 -3]\n",
      " [-6 -6 -6]]\n",
      "[[ 1  4  9]\n",
      " [ 4 10 18]\n",
      " [ 7 16 27]]\n",
      "[[1.         1.         1.        ]\n",
      " [0.25       0.4        0.5       ]\n",
      " [0.14285714 0.25       0.33333333]]\n",
      "[[0 0 0]\n",
      " [1 2 3]\n",
      " [1 2 3]]\n"
     ]
    }
   ],
   "source": [
    "print(array1 + array2)\n",
    "print(array1 - array2)\n",
    "print(array1 * array2)\n",
    "print(array1 / array2)\n",
    "print(array1 % array2)"
   ]
  },
  {
   "cell_type": "code",
   "execution_count": 1,
   "id": "b6cfa9b8-4e55-4096-94c2-069dcb533a15",
   "metadata": {},
   "outputs": [],
   "source": [
    "# NumPy20本ノック\n"
   ]
  },
  {
   "cell_type": "code",
   "execution_count": 2,
   "id": "4fb6175d-a9d0-434e-8795-5e518a01fc1d",
   "metadata": {},
   "outputs": [],
   "source": [
    "import numpy as np"
   ]
  },
  {
   "cell_type": "code",
   "execution_count": 6,
   "id": "0ff3901c-45c9-45be-a820-aae2f91ae8a3",
   "metadata": {},
   "outputs": [
    {
     "name": "stdout",
     "output_type": "stream",
     "text": [
      "[1 2 3 4]\n",
      "[[ 4]\n",
      " [-1]\n",
      " [ 6]]\n"
     ]
    }
   ],
   "source": [
    "a = np.array([1,2,3,4])\n",
    "b = np.array([[4], [-1], [6]])\n",
    "print(a)\n",
    "print(b)"
   ]
  },
  {
   "cell_type": "code",
   "execution_count": 7,
   "id": "c5f5fc8e-491e-4d2d-9792-e9cda2045f4c",
   "metadata": {},
   "outputs": [],
   "source": [
    "# Q2"
   ]
  },
  {
   "cell_type": "code",
   "execution_count": 8,
   "id": "bf2807fa-6a1f-479a-b6d7-19d6103f77ea",
   "metadata": {},
   "outputs": [
    {
     "name": "stdout",
     "output_type": "stream",
     "text": [
      "[[ 3 -2]\n",
      " [ 7  1]]\n",
      "[[ 3 -2  0  1]\n",
      " [ 7  1 -1  2]\n",
      " [ 4 -5  1  3]]\n"
     ]
    }
   ],
   "source": [
    "C = np.array([[3,-2],[7,1]])\n",
    "D = np.array([[3,-2,0,1],[7,1,-1,2],[4,-5,1,3]])\n",
    "print(C)\n",
    "print(D)"
   ]
  },
  {
   "cell_type": "code",
   "execution_count": 9,
   "id": "97b48b50-d407-47b6-bbda-6c5e3ea28b42",
   "metadata": {},
   "outputs": [],
   "source": [
    "# Q3"
   ]
  },
  {
   "cell_type": "code",
   "execution_count": 10,
   "id": "20f88308-4bbc-4c79-a931-f3cc06bbc388",
   "metadata": {},
   "outputs": [
    {
     "data": {
      "text/plain": [
       "array([0., 0.])"
      ]
     },
     "execution_count": 10,
     "metadata": {},
     "output_type": "execute_result"
    }
   ],
   "source": [
    "a = np.zeros(2)\n",
    "a"
   ]
  },
  {
   "cell_type": "code",
   "execution_count": 11,
   "id": "e78fde08-3dd7-47d5-953f-e877aff19578",
   "metadata": {},
   "outputs": [
    {
     "data": {
      "text/plain": [
       "array([[[1.],\n",
       "        [1.],\n",
       "        [1.],\n",
       "        [1.]]])"
      ]
     },
     "execution_count": 11,
     "metadata": {},
     "output_type": "execute_result"
    }
   ],
   "source": [
    "shape = (1,4,1)\n",
    "b = np.ones(shape)\n",
    "b"
   ]
  },
  {
   "cell_type": "code",
   "execution_count": 12,
   "id": "8a3c4de2-9dfe-42f8-9c7a-69b8ab9cb209",
   "metadata": {},
   "outputs": [],
   "source": [
    "# Q4"
   ]
  },
  {
   "cell_type": "code",
   "execution_count": 17,
   "id": "53df1614-2387-4c7a-aef8-30ccfda00186",
   "metadata": {},
   "outputs": [
    {
     "data": {
      "text/plain": [
       "array([[1., 0., 0.],\n",
       "       [0., 1., 0.],\n",
       "       [0., 0., 1.]])"
      ]
     },
     "execution_count": 17,
     "metadata": {},
     "output_type": "execute_result"
    }
   ],
   "source": [
    "C = np.eye(3)\n",
    "C"
   ]
  },
  {
   "cell_type": "code",
   "execution_count": 16,
   "id": "c9184e80-bee9-4b3e-b693-0a13aad2a220",
   "metadata": {},
   "outputs": [
    {
     "data": {
      "text/plain": [
       "array([[1., 0., 0., 0.],\n",
       "       [0., 1., 0., 0.],\n",
       "       [0., 0., 1., 0.]])"
      ]
     },
     "execution_count": 16,
     "metadata": {},
     "output_type": "execute_result"
    }
   ],
   "source": [
    "D = np.eye(3,4)\n",
    "D"
   ]
  },
  {
   "cell_type": "code",
   "execution_count": 18,
   "id": "e35b25f3-02d8-4e6d-b77e-ceec93bb2f8b",
   "metadata": {},
   "outputs": [],
   "source": [
    "# Q5"
   ]
  },
  {
   "cell_type": "code",
   "execution_count": 27,
   "id": "bc8b359e-5d25-4c66-bae1-796f98279a33",
   "metadata": {},
   "outputs": [
    {
     "data": {
      "text/plain": [
       "array([2, 3, 4])"
      ]
     },
     "execution_count": 27,
     "metadata": {},
     "output_type": "execute_result"
    }
   ],
   "source": [
    "a = np.array([2,3,4])\n",
    "a"
   ]
  },
  {
   "cell_type": "code",
   "execution_count": 21,
   "id": "c7cd8c5f-2dc7-41d7-9aeb-2e2cf6889254",
   "metadata": {},
   "outputs": [
    {
     "data": {
      "text/plain": [
       "array([[ 1.2,  3.5,  5.1],\n",
       "       [-0.3,  1.1, -4.5]])"
      ]
     },
     "execution_count": 21,
     "metadata": {},
     "output_type": "execute_result"
    }
   ],
   "source": [
    "b = np.array([[1.2, 3.5, 5.1], [-0.3, 1.1, -4.5]])\n",
    "b"
   ]
  },
  {
   "cell_type": "code",
   "execution_count": 30,
   "id": "989a7bb7-f235-4c03-88b4-a143b265deee",
   "metadata": {},
   "outputs": [
    {
     "name": "stdout",
     "output_type": "stream",
     "text": [
      "(3,)\n",
      "(2, 3)\n"
     ]
    }
   ],
   "source": [
    "# 形状\n",
    "a_shape = a.shape\n",
    "b_shape = b.shape\n",
    "print(a_shape)\n",
    "print(b_shape)"
   ]
  },
  {
   "cell_type": "code",
   "execution_count": 31,
   "id": "fd4257f4-5096-4f6d-b3ff-b27170564007",
   "metadata": {},
   "outputs": [
    {
     "name": "stdout",
     "output_type": "stream",
     "text": [
      "1\n",
      "2\n"
     ]
    }
   ],
   "source": [
    "# 次元\n",
    "a_ndim = a.ndim\n",
    "b_ndim = b.ndim\n",
    "print(a_ndim)\n",
    "print(b_ndim)"
   ]
  },
  {
   "cell_type": "code",
   "execution_count": 32,
   "id": "449fa6c6-2236-4f84-bf4b-4543c6fe50b9",
   "metadata": {},
   "outputs": [
    {
     "name": "stdout",
     "output_type": "stream",
     "text": [
      "int64\n",
      "float64\n"
     ]
    }
   ],
   "source": [
    "# データ型\n",
    "a_datatype = a.dtype\n",
    "b_datatype = b.dtype\n",
    "print(a_datatype)\n",
    "print(b_datatype)"
   ]
  },
  {
   "cell_type": "code",
   "execution_count": 33,
   "id": "b25e35fe-298b-4d5f-893f-57a0197fc185",
   "metadata": {},
   "outputs": [
    {
     "name": "stdout",
     "output_type": "stream",
     "text": [
      "3\n",
      "6\n"
     ]
    }
   ],
   "source": [
    "# 要素数\n",
    "a_size = a.size\n",
    "b_size = b.size\n",
    "print(a_size)\n",
    "print(b_size)"
   ]
  },
  {
   "cell_type": "code",
   "execution_count": 34,
   "id": "2ba5c8c8-678b-4d71-b7f3-d428af5e768a",
   "metadata": {},
   "outputs": [],
   "source": [
    "# Q7\n",
    "# Indexing&Slicing"
   ]
  },
  {
   "cell_type": "code",
   "execution_count": 55,
   "id": "a8621364-b722-4d78-867d-25d79880289b",
   "metadata": {},
   "outputs": [
    {
     "data": {
      "text/plain": [
       "array([ 1,  3,  5,  7,  9, 11])"
      ]
     },
     "execution_count": 55,
     "metadata": {},
     "output_type": "execute_result"
    }
   ],
   "source": [
    "a = np.array([1,3,5,7,9,11])\n",
    "a"
   ]
  },
  {
   "cell_type": "code",
   "execution_count": 62,
   "id": "bf77be0d-39c7-42af-aa5a-a48539f6017d",
   "metadata": {},
   "outputs": [
    {
     "data": {
      "text/plain": [
       "array([[ 2,  4,  6],\n",
       "       [-1,  5, -3],\n",
       "       [ 0, -2,  3]])"
      ]
     },
     "execution_count": 62,
     "metadata": {},
     "output_type": "execute_result"
    }
   ],
   "source": [
    "B = np.array([[2,4,6],\n",
    "      [-1,5,-3],\n",
    "      [0,-2,3]])\n",
    "B"
   ]
  },
  {
   "cell_type": "code",
   "execution_count": 56,
   "id": "3850b8ff-907b-457c-b184-f35911d04879",
   "metadata": {},
   "outputs": [
    {
     "name": "stdout",
     "output_type": "stream",
     "text": [
      "[5 7 9]\n"
     ]
    }
   ],
   "source": [
    "# 3つ目〜5つ目まで\n",
    "print(a[2:5])"
   ]
  },
  {
   "cell_type": "code",
   "execution_count": 57,
   "id": "eedf5bda-e85d-4771-bde3-bfe80770a43b",
   "metadata": {},
   "outputs": [
    {
     "name": "stdout",
     "output_type": "stream",
     "text": [
      "[11  9  7  5  3  1]\n"
     ]
    }
   ],
   "source": [
    "# 逆順で\n",
    "print(a[::-1])"
   ]
  },
  {
   "cell_type": "code",
   "execution_count": 52,
   "id": "3ebc61de-bc6e-453f-86d1-0b32ffff4a2c",
   "metadata": {},
   "outputs": [
    {
     "name": "stdout",
     "output_type": "stream",
     "text": [
      "[2, 4, 6]\n"
     ]
    }
   ],
   "source": [
    "# 一行目全て\n",
    "print(B[0])"
   ]
  },
  {
   "cell_type": "code",
   "execution_count": 63,
   "id": "3ebaed74-9b57-4098-899e-7a3eaa000945",
   "metadata": {},
   "outputs": [
    {
     "name": "stdout",
     "output_type": "stream",
     "text": [
      "0\n"
     ]
    }
   ],
   "source": [
    "# 3行１列目\n",
    "print(B[2, 0])"
   ]
  },
  {
   "cell_type": "code",
   "execution_count": 64,
   "id": "a3cf46e1-ea1e-4b92-a521-0e3385ab3312",
   "metadata": {},
   "outputs": [
    {
     "name": "stdout",
     "output_type": "stream",
     "text": [
      "[[ 5 -3]\n",
      " [-2  3]]\n"
     ]
    }
   ],
   "source": [
    "# ２〜３行目、２〜３列目\n",
    "print(B[1:,1:])"
   ]
  },
  {
   "cell_type": "code",
   "execution_count": 66,
   "id": "0874ad63-96ea-400b-bfee-f297bbb37327",
   "metadata": {},
   "outputs": [],
   "source": [
    "# Q7 四則演算"
   ]
  },
  {
   "cell_type": "code",
   "execution_count": 67,
   "id": "c6440aae-d102-46b7-bccb-69d8dd8622d0",
   "metadata": {},
   "outputs": [
    {
     "data": {
      "text/plain": [
       "array([[3, 2],\n",
       "       [1, 4]])"
      ]
     },
     "execution_count": 67,
     "metadata": {},
     "output_type": "execute_result"
    }
   ],
   "source": [
    "# 足し算\n",
    "np.array([[1,3],[-2,4]]) + np.array([[2, -1], [3,0]])"
   ]
  },
  {
   "cell_type": "code",
   "execution_count": 69,
   "id": "09d4de1b-760d-4af9-ae7c-8376f057ea28",
   "metadata": {},
   "outputs": [
    {
     "data": {
      "text/plain": [
       "array([[-1,  4],\n",
       "       [-5,  4]])"
      ]
     },
     "execution_count": 69,
     "metadata": {},
     "output_type": "execute_result"
    }
   ],
   "source": [
    "# 引き算\n",
    "np.array([[1, 3], [-2,4]]) - np.array([[2, -1], [3,0]])"
   ]
  },
  {
   "cell_type": "code",
   "execution_count": 72,
   "id": "40ed1826-97a2-49be-b0f9-e87f4475fa7f",
   "metadata": {},
   "outputs": [
    {
     "data": {
      "text/plain": [
       "array([[-36,  10],\n",
       "       [ 21,  -6]])"
      ]
     },
     "execution_count": 72,
     "metadata": {},
     "output_type": "execute_result"
    }
   ],
   "source": [
    "# 行列積\n",
    "np.array([[-2, -5], [1,3]]) @ np.array([[3, 0], [6, -2]])"
   ]
  },
  {
   "cell_type": "code",
   "execution_count": 73,
   "id": "93d1b21f-fc4f-4d11-b9f1-256e8878e6e4",
   "metadata": {},
   "outputs": [
    {
     "data": {
      "text/plain": [
       "array([[-6,  5],\n",
       "       [ 0,  3]])"
      ]
     },
     "execution_count": 73,
     "metadata": {},
     "output_type": "execute_result"
    }
   ],
   "source": [
    "# アダマール積\n",
    "np.array([[3, 5], [4, -1]]) * np.array([[-2, 1], [0, -3]])"
   ]
  },
  {
   "cell_type": "code",
   "execution_count": 74,
   "id": "4614b59a-6849-4bac-b07c-e7857047fcae",
   "metadata": {},
   "outputs": [],
   "source": [
    "# Q8 転置"
   ]
  },
  {
   "cell_type": "code",
   "execution_count": 76,
   "id": "b64d43c1-fb71-4d86-b74a-9deaee7559cf",
   "metadata": {},
   "outputs": [],
   "source": [
    "a = np.array([[2,3,4]])"
   ]
  },
  {
   "cell_type": "code",
   "execution_count": 77,
   "id": "37e0dfab-8539-4c86-aa21-04064cc40a2d",
   "metadata": {},
   "outputs": [
    {
     "data": {
      "text/plain": [
       "(1, 3)"
      ]
     },
     "execution_count": 77,
     "metadata": {},
     "output_type": "execute_result"
    }
   ],
   "source": [
    "a.shape"
   ]
  },
  {
   "cell_type": "code",
   "execution_count": 78,
   "id": "61547e1e-9cc3-4a19-9958-89c928dbc25b",
   "metadata": {},
   "outputs": [
    {
     "data": {
      "text/plain": [
       "array([[2],\n",
       "       [3],\n",
       "       [4]])"
      ]
     },
     "execution_count": 78,
     "metadata": {},
     "output_type": "execute_result"
    }
   ],
   "source": [
    "a.T"
   ]
  },
  {
   "cell_type": "code",
   "execution_count": 79,
   "id": "6e380945-85c7-4fba-81d3-7ea5d951b851",
   "metadata": {},
   "outputs": [],
   "source": [
    "B = np.array([[1.2, 3.5, 5.1], [-0.3, 1.1, -4.5]])"
   ]
  },
  {
   "cell_type": "code",
   "execution_count": 80,
   "id": "be00df88-3341-42ee-99b2-1239dd83d46d",
   "metadata": {},
   "outputs": [
    {
     "data": {
      "text/plain": [
       "array([[ 1.2, -0.3],\n",
       "       [ 3.5,  1.1],\n",
       "       [ 5.1, -4.5]])"
      ]
     },
     "execution_count": 80,
     "metadata": {},
     "output_type": "execute_result"
    }
   ],
   "source": [
    "B.T"
   ]
  },
  {
   "cell_type": "code",
   "execution_count": 89,
   "id": "73f0c41f-5cbd-45d4-b4e7-0518588a479c",
   "metadata": {},
   "outputs": [],
   "source": [
    "# Q9"
   ]
  },
  {
   "cell_type": "code",
   "execution_count": 81,
   "id": "07cd5e70-d3ae-4b81-b74d-78c9d914bbf2",
   "metadata": {},
   "outputs": [
    {
     "data": {
      "text/plain": [
       "array([[ 4, -2],\n",
       "       [ 1,  0]])"
      ]
     },
     "execution_count": 81,
     "metadata": {},
     "output_type": "execute_result"
    }
   ],
   "source": [
    "A = np.array([[4, -2], [1, 0]])\n",
    "A"
   ]
  },
  {
   "cell_type": "code",
   "execution_count": 85,
   "id": "a85b6a59-3718-4570-8844-3b4b816b23f4",
   "metadata": {},
   "outputs": [
    {
     "data": {
      "text/plain": [
       "2.0"
      ]
     },
     "execution_count": 85,
     "metadata": {},
     "output_type": "execute_result"
    }
   ],
   "source": [
    "# 行列式(Determinate)\n",
    "np.linalg.det(A)"
   ]
  },
  {
   "cell_type": "code",
   "execution_count": 87,
   "id": "e8ab086f-90e6-4b91-b7c9-c40b0c1e70fe",
   "metadata": {},
   "outputs": [],
   "source": [
    "# 逆行列(invverse)\n",
    "Ainv = np.linalg.inv(A)"
   ]
  },
  {
   "cell_type": "code",
   "execution_count": 88,
   "id": "e92f2dc3-4283-4800-8b0c-dab87dabb7be",
   "metadata": {},
   "outputs": [
    {
     "data": {
      "text/plain": [
       "array([[1., 0.],\n",
       "       [0., 1.]])"
      ]
     },
     "execution_count": 88,
     "metadata": {},
     "output_type": "execute_result"
    }
   ],
   "source": [
    "A@Ainv"
   ]
  },
  {
   "cell_type": "code",
   "execution_count": 91,
   "id": "76251256-8411-41a7-ba3e-df45cec79531",
   "metadata": {},
   "outputs": [],
   "source": [
    "# Q10 スカラー"
   ]
  },
  {
   "cell_type": "code",
   "execution_count": 92,
   "id": "4b9e106c-fffe-47fd-a847-24d2b4b77128",
   "metadata": {},
   "outputs": [
    {
     "data": {
      "text/plain": [
       "array([[ 2. , -1. ],\n",
       "       [ 0.5,  0. ]])"
      ]
     },
     "execution_count": 92,
     "metadata": {},
     "output_type": "execute_result"
    }
   ],
   "source": [
    "A * 0.5"
   ]
  },
  {
   "cell_type": "code",
   "execution_count": 93,
   "id": "faa1dc5e-1dee-4baa-a209-f7f2ce8caff1",
   "metadata": {},
   "outputs": [
    {
     "data": {
      "text/plain": [
       "array([[ 2.4,  7. , 10.2],\n",
       "       [-0.6,  2.2, -9. ]])"
      ]
     },
     "execution_count": 93,
     "metadata": {},
     "output_type": "execute_result"
    }
   ],
   "source": [
    "B * 2"
   ]
  },
  {
   "cell_type": "code",
   "execution_count": 94,
   "id": "36e502c3-9e60-4de4-8109-e574352f25dd",
   "metadata": {},
   "outputs": [],
   "source": [
    "# Q11 ベクトルのサイズ変更"
   ]
  },
  {
   "cell_type": "code",
   "execution_count": 97,
   "id": "88f90b35-4ae3-4f96-bbea-534d1734c276",
   "metadata": {},
   "outputs": [
    {
     "data": {
      "text/plain": [
       "array([ 0,  1,  2,  3,  4,  5,  6,  7,  8,  9, 10, 11])"
      ]
     },
     "execution_count": 97,
     "metadata": {},
     "output_type": "execute_result"
    }
   ],
   "source": [
    "d = np.arange(12)\n",
    "d"
   ]
  },
  {
   "cell_type": "code",
   "execution_count": 98,
   "id": "36b77122-52c7-4522-b1c7-974f5929b766",
   "metadata": {},
   "outputs": [
    {
     "data": {
      "text/plain": [
       "array([[ 0,  1,  2,  3],\n",
       "       [ 4,  5,  6,  7],\n",
       "       [ 8,  9, 10, 11]])"
      ]
     },
     "execution_count": 98,
     "metadata": {},
     "output_type": "execute_result"
    }
   ],
   "source": [
    "d.reshape(3, 4)"
   ]
  },
  {
   "cell_type": "code",
   "execution_count": 99,
   "id": "ba0d9fb8-018d-4a14-86f1-1c103836eb75",
   "metadata": {},
   "outputs": [],
   "source": [
    "# Q12 統計値"
   ]
  },
  {
   "cell_type": "code",
   "execution_count": 103,
   "id": "0cff1f21-e4eb-4aae-909c-dae7602e69ad",
   "metadata": {},
   "outputs": [
    {
     "data": {
      "text/plain": [
       "array([[ 2,  4,  6],\n",
       "       [-1,  5, -3],\n",
       "       [ 0, -2,  3]])"
      ]
     },
     "execution_count": 103,
     "metadata": {},
     "output_type": "execute_result"
    }
   ],
   "source": [
    "b = np.array([[2, 4, 6], [-1, 5, -3], [0, -2, 3]])\n",
    "b"
   ]
  },
  {
   "cell_type": "code",
   "execution_count": 105,
   "id": "c65194eb-7351-462e-a328-a608b87bb389",
   "metadata": {},
   "outputs": [
    {
     "name": "stdout",
     "output_type": "stream",
     "text": [
      "6\n",
      "-3\n",
      "14\n",
      "1.5555555555555556\n",
      "9.135802469135802\n",
      "3.0225490019412096\n"
     ]
    }
   ],
   "source": [
    "# 最大値\n",
    "print(b.max())\n",
    "# 最小値\n",
    "print(b.min())\n",
    "# 総和\n",
    "print(b.sum())\n",
    "# 平均\n",
    "print(b.mean())\n",
    "# 分散\n",
    "print(b.var())\n",
    "# 標準偏差　\n",
    "print(b.std())"
   ]
  },
  {
   "cell_type": "code",
   "execution_count": 109,
   "id": "ada5e8e5-b6d3-490f-8ab4-058fef7a9c22",
   "metadata": {},
   "outputs": [
    {
     "name": "stdout",
     "output_type": "stream",
     "text": [
      "[ 2 -3 -2]\n",
      "[-1 -2 -3]\n"
     ]
    }
   ],
   "source": [
    "# 行ごとでの最小値\n",
    "print(b.min(axis=1))\n",
    "# 列ごとでの最小値\n",
    "print(b.min(axis=0))"
   ]
  },
  {
   "cell_type": "code",
   "execution_count": 110,
   "id": "8bd1015c-737d-401c-9c9c-7e896a889d79",
   "metadata": {},
   "outputs": [],
   "source": [
    "# Q13 ユニバーサル関数　part1"
   ]
  },
  {
   "cell_type": "code",
   "execution_count": 112,
   "id": "09ab2848-20af-41f2-95eb-ac483a2c8880",
   "metadata": {},
   "outputs": [
    {
     "data": {
      "text/plain": [
       "array([[0, 1],\n",
       "       [2, 4]])"
      ]
     },
     "execution_count": 112,
     "metadata": {},
     "output_type": "execute_result"
    }
   ],
   "source": [
    "a = np.array([[0, 1], [2,4]])\n",
    "a"
   ]
  },
  {
   "cell_type": "code",
   "execution_count": 115,
   "id": "62de1cf1-f724-4a63-a9cf-0160a181c3dc",
   "metadata": {},
   "outputs": [
    {
     "data": {
      "text/plain": [
       "array([[0.        , 1.        ],\n",
       "       [1.41421356, 2.        ]])"
      ]
     },
     "execution_count": 115,
     "metadata": {},
     "output_type": "execute_result"
    }
   ],
   "source": [
    "# 平方根 squere rute\n",
    "np.sqrt(a)"
   ]
  },
  {
   "cell_type": "code",
   "execution_count": 116,
   "id": "d81de296-8e0e-4834-944a-99bccde9cccb",
   "metadata": {},
   "outputs": [
    {
     "data": {
      "text/plain": [
       "array([[ 1.        ,  2.71828183],\n",
       "       [ 7.3890561 , 54.59815003]])"
      ]
     },
     "execution_count": 116,
     "metadata": {},
     "output_type": "execute_result"
    }
   ],
   "source": [
    "# 指数関数\n",
    "np.exp(a)"
   ]
  },
  {
   "cell_type": "code",
   "execution_count": 118,
   "id": "583feee6-b598-4ac7-87eb-29b6ee914cd9",
   "metadata": {},
   "outputs": [],
   "source": [
    "# Q14 ユニーバーサル関数　part2"
   ]
  },
  {
   "cell_type": "code",
   "execution_count": 119,
   "id": "6de2cf38-bd75-4494-8758-5cde5027f753",
   "metadata": {},
   "outputs": [
    {
     "data": {
      "text/plain": [
       "array([[ 0.        ,  3.14159265],\n",
       "       [ 1.57079633, -0.78539816]])"
      ]
     },
     "execution_count": 119,
     "metadata": {},
     "output_type": "execute_result"
    }
   ],
   "source": [
    "a = np.array([[0, np.pi], [np.pi/2, -np.pi/4]])\n",
    "a"
   ]
  },
  {
   "cell_type": "code",
   "execution_count": 122,
   "id": "1e9961b3-1d52-40b7-8246-22af7813c48a",
   "metadata": {},
   "outputs": [
    {
     "name": "stdout",
     "output_type": "stream",
     "text": [
      "[[ 0.00000000e+00  1.22464680e-16]\n",
      " [ 1.00000000e+00 -7.07106781e-01]]\n",
      "[[ 1.00000000e+00 -1.00000000e+00]\n",
      " [ 6.12323400e-17  7.07106781e-01]]\n"
     ]
    }
   ],
   "source": [
    "# sin関数\n",
    "print(np.sin(a))\n",
    "# cos関数\n",
    "print(np.cos(a))"
   ]
  },
  {
   "cell_type": "code",
   "execution_count": 123,
   "id": "8743ab7e-b926-445c-9f76-bb3cc652fe20",
   "metadata": {},
   "outputs": [],
   "source": [
    "# Q15 行列の結合"
   ]
  },
  {
   "cell_type": "code",
   "execution_count": 124,
   "id": "2b3dd094-d810-4434-bfe5-af317dfc6e50",
   "metadata": {},
   "outputs": [
    {
     "name": "stdout",
     "output_type": "stream",
     "text": [
      "[[ 0  1 -1]\n",
      " [ 2  4 -3]\n",
      " [ 5 -2  7]]\n",
      "[[-2  0  1]\n",
      " [ 5 -1  2]\n",
      " [-6  3  4]]\n"
     ]
    }
   ],
   "source": [
    "a = np.array([[0, 1, -1], [2, 4, -3], [5, -2, 7]])\n",
    "b = np.array([[-2, 0, 1], [5, -1, 2], [-6, 3, 4]])\n",
    "print(a)\n",
    "print(b)"
   ]
  },
  {
   "cell_type": "code",
   "execution_count": 132,
   "id": "120bb873-aee0-4b35-9cbb-4398cf67ebd0",
   "metadata": {},
   "outputs": [
    {
     "data": {
      "text/plain": [
       "array([[ 0,  1, -1],\n",
       "       [ 2,  4, -3],\n",
       "       [ 5, -2,  7],\n",
       "       [-2,  0,  1],\n",
       "       [ 5, -1,  2],\n",
       "       [-6,  3,  4]])"
      ]
     },
     "execution_count": 132,
     "metadata": {},
     "output_type": "execute_result"
    }
   ],
   "source": [
    "# 縦方向に結合\n",
    "c = np.vstack((a,b))\n",
    "c"
   ]
  },
  {
   "cell_type": "code",
   "execution_count": 133,
   "id": "9751d113-3ac7-4fcb-b394-d6e154ef1e2b",
   "metadata": {},
   "outputs": [
    {
     "data": {
      "text/plain": [
       "array([[ 0,  1, -1, -2,  0,  1],\n",
       "       [ 2,  4, -3,  5, -1,  2],\n",
       "       [ 5, -2,  7, -6,  3,  4]])"
      ]
     },
     "execution_count": 133,
     "metadata": {},
     "output_type": "execute_result"
    }
   ],
   "source": [
    "# 横方向に結合\n",
    "d = np.hstack((a, b))\n",
    "d"
   ]
  },
  {
   "cell_type": "code",
   "execution_count": 129,
   "id": "a6f38e44-0595-4a85-974e-5f03ebc5c754",
   "metadata": {},
   "outputs": [],
   "source": [
    "# Q16 行列の分解"
   ]
  },
  {
   "cell_type": "code",
   "execution_count": 136,
   "id": "eef48de7-c59f-45c7-adbb-6baf3d3f7fde",
   "metadata": {},
   "outputs": [
    {
     "name": "stdout",
     "output_type": "stream",
     "text": [
      "[array([[ 0,  1, -1],\n",
      "       [ 2,  4, -3],\n",
      "       [ 5, -2,  7]]), array([[-2,  0,  1],\n",
      "       [ 5, -1,  2],\n",
      "       [-6,  3,  4]])]\n",
      "[array([[ 0,  1, -1],\n",
      "       [ 2,  4, -3]]), array([[ 5, -2,  7],\n",
      "       [-2,  0,  1]]), array([[ 5, -1,  2],\n",
      "       [-6,  3,  4]])]\n"
     ]
    }
   ],
   "source": [
    "# 縦方向の分解\n",
    "e = np.vsplit(c, 2)\n",
    "f = np.vsplit(c, 3)\n",
    "print(e)\n",
    "print(f)"
   ]
  },
  {
   "cell_type": "code",
   "execution_count": 143,
   "id": "159d5493-16e5-4487-9fd2-311ff5e43fec",
   "metadata": {},
   "outputs": [],
   "source": [
    "# 横方向の分解"
   ]
  },
  {
   "cell_type": "code",
   "execution_count": 144,
   "id": "70b4cb6f-3e3a-4a94-9990-20e2dba94f91",
   "metadata": {},
   "outputs": [
    {
     "data": {
      "text/plain": [
       "[array([[ 0,  1, -1],\n",
       "        [ 2,  4, -3],\n",
       "        [ 5, -2,  7]]),\n",
       " array([[-2,  0,  1],\n",
       "        [ 5, -1,  2],\n",
       "        [-6,  3,  4]])]"
      ]
     },
     "execution_count": 144,
     "metadata": {},
     "output_type": "execute_result"
    }
   ],
   "source": [
    "np.hsplit(d, 2)"
   ]
  },
  {
   "cell_type": "code",
   "execution_count": 145,
   "id": "e8d9c72f-3f59-4414-8c1e-f66f7781e1d0",
   "metadata": {},
   "outputs": [],
   "source": [
    "# Q17 グラフ化"
   ]
  },
  {
   "cell_type": "code",
   "execution_count": 146,
   "id": "58dda618-0f64-4ca9-aac1-de8da24e485a",
   "metadata": {},
   "outputs": [],
   "source": [
    "import matplotlib.pyplot as plt"
   ]
  },
  {
   "cell_type": "code",
   "execution_count": 147,
   "id": "c8510dfa-b0ca-4bf6-9042-d39ecec680df",
   "metadata": {},
   "outputs": [],
   "source": [
    "# ０〜２Πまでを５００サンプルに区切ってsin波、cos波をプロット"
   ]
  },
  {
   "cell_type": "code",
   "execution_count": 148,
   "id": "f0a72a15-a843-4abe-b2c8-cdfc195b7987",
   "metadata": {},
   "outputs": [],
   "source": [
    "# 0~30までの整数からランダムに１００サンプルを作成しヒストグラムにする"
   ]
  },
  {
   "cell_type": "code",
   "execution_count": 151,
   "id": "32d4a430-18f5-449b-b9bc-172d08c9d868",
   "metadata": {},
   "outputs": [],
   "source": [
    "x = np.linspace(0, 2*np.pi, 500)"
   ]
  },
  {
   "cell_type": "code",
   "execution_count": 153,
   "id": "39b081f5-89e8-4b3a-a364-d5f10211d2b8",
   "metadata": {},
   "outputs": [
    {
     "data": {
      "image/png": "[encoded data removed]",
      "text/plain": [
       "<Figure size 432x288 with 1 Axes>"
      ]
     },
     "metadata": {
      "needs_background": "light"
     },
     "output_type": "display_data"
    }
   ],
   "source": [
    "plt.plot(x, np.sin(x))\n",
    "plt.plot(x, np.cos(x))\n",
    "plt.show()"
   ]
  },
  {
   "cell_type": "code",
   "execution_count": 154,
   "id": "6732deba-0550-4139-b415-8949d330b910",
   "metadata": {},
   "outputs": [
    {
     "data": {
      "text/plain": [
       "array([18, 25, 25, 11, 29, 19,  0, 11, 11, 28, 23,  4, 18,  6, 26, 17, 10,\n",
       "       20, 12, 10, 19, 12,  5, 14, 18, 27, 17, 17,  0,  8,  4,  0, 24,  3,\n",
       "        3,  8, 17, 20, 19, 28,  9,  8, 12, 19, 22, 14,  2, 12, 29,  1, 24,\n",
       "        7, 26, 15, 13,  1, 22, 19, 17,  7,  5,  7,  4, 14, 12, 24, 21, 10,\n",
       "       25, 24, 25,  4, 16, 14,  1, 28, 27,  0, 22,  4, 28, 10, 26, 25, 28,\n",
       "       11, 26,  7,  7,  1, 10, 27, 27,  4, 29,  2, 16, 12,  7, 23])"
      ]
     },
     "execution_count": 154,
     "metadata": {},
     "output_type": "execute_result"
    }
   ],
   "source": [
    "data = np.random.randint(0, 30, 100)\n",
    "data"
   ]
  },
  {
   "cell_type": "code",
   "execution_count": 157,
   "id": "29449bd9-4ef0-422c-9576-96965c43e091",
   "metadata": {},
   "outputs": [
    {
     "data": {
      "image/png": "[encoded data removed]",
      "text/plain": [
       "<Figure size 432x288 with 1 Axes>"
      ]
     },
     "metadata": {
      "needs_background": "light"
     },
     "output_type": "display_data"
    }
   ],
   "source": [
    "plt.hist(data)\n",
    "plt.show()"
   ]
  },
  {
   "cell_type": "code",
   "execution_count": 158,
   "id": "1f021fc4-6752-4b92-ae8d-fc924166cf44",
   "metadata": {},
   "outputs": [],
   "source": [
    "# Q18 演習課題"
   ]
  },
  {
   "cell_type": "code",
   "execution_count": 159,
   "id": "37bc0c0b-05d2-4579-8e42-d5dccab05be4",
   "metadata": {},
   "outputs": [],
   "source": [
    "a = np.array([[-10, -8, -6], [-4, -2, 0], [2, 4, 6], [8, 10, 12]])\n",
    "b = np.array([[-1, -2, -2, -2], [-2, -1, -2, -2], [-2, -2, -1, -2]])"
   ]
  },
  {
   "cell_type": "code",
   "execution_count": 162,
   "id": "3f32138f-d55d-4b89-9336-1377b0c09643",
   "metadata": {},
   "outputs": [
    {
     "name": "stdout",
     "output_type": "stream",
     "text": [
      "(4, 3)\n",
      "(3, 4)\n"
     ]
    }
   ],
   "source": [
    "print(a.shape)\n",
    "print(b.shape)"
   ]
  },
  {
   "cell_type": "code",
   "execution_count": 165,
   "id": "fc306387-6b95-489c-ab2c-cf412476a0be",
   "metadata": {},
   "outputs": [
    {
     "data": {
      "text/plain": [
       "array([[ 38,  40,  42,  48],\n",
       "       [  8,  10,  12,  12],\n",
       "       [-22, -20, -18, -24],\n",
       "       [-52, -50, -48, -60]])"
      ]
     },
     "execution_count": 165,
     "metadata": {},
     "output_type": "execute_result"
    }
   ],
   "source": [
    "c = a@b\n",
    "c"
   ]
  },
  {
   "cell_type": "code",
   "execution_count": 168,
   "id": "205d82e0-69c9-45a3-997d-24056ec3305f",
   "metadata": {},
   "outputs": [],
   "source": [
    "# Q19 演習課題\n",
    "# 先ほど作成した行列Cの２行２列目までをDとして取り出し、一度転置したあと逆行列を求めてください。"
   ]
  },
  {
   "cell_type": "code",
   "execution_count": 170,
   "id": "127cb692-9dc6-4aca-9711-ae676e30fbb5",
   "metadata": {},
   "outputs": [
    {
     "data": {
      "text/plain": [
       "array([[38, 40],\n",
       "       [ 8, 10]])"
      ]
     },
     "execution_count": 170,
     "metadata": {},
     "output_type": "execute_result"
    }
   ],
   "source": [
    "d = c[:2, :2]\n",
    "d"
   ]
  },
  {
   "cell_type": "code",
   "execution_count": 172,
   "id": "e3d99d1a-c943-490c-8f38-cbf449b0471b",
   "metadata": {},
   "outputs": [
    {
     "data": {
      "text/plain": [
       "array([[38,  8],\n",
       "       [40, 10]])"
      ]
     },
     "execution_count": 172,
     "metadata": {},
     "output_type": "execute_result"
    }
   ],
   "source": [
    "D = d.T\n",
    "D"
   ]
  },
  {
   "cell_type": "code",
   "execution_count": 174,
   "id": "40315275-1b24-45b1-8af9-ff01442cdd10",
   "metadata": {},
   "outputs": [
    {
     "data": {
      "text/plain": [
       "array([[ 0.16666667, -0.13333333],\n",
       "       [-0.66666667,  0.63333333]])"
      ]
     },
     "execution_count": 174,
     "metadata": {},
     "output_type": "execute_result"
    }
   ],
   "source": [
    "np.linalg.inv(D)"
   ]
  },
  {
   "cell_type": "code",
   "execution_count": 175,
   "id": "bc5cddd1-d894-452a-b7c0-ef4242980476",
   "metadata": {},
   "outputs": [],
   "source": [
    "# Q20 演習課題\n",
    "# −１００〜１００までの整数の乱数３００サンプルを2つ作成し、それぞれをx軸の値、y軸の値とした場合の散布図をプロットしてください"
   ]
  },
  {
   "cell_type": "code",
   "execution_count": 181,
   "id": "a421c2d6-edba-4c61-866e-14a5ca9b2f31",
   "metadata": {},
   "outputs": [],
   "source": [
    "a = np.random.randint(-100, 100, 300)\n",
    "b = np.random.randint(-100, 100, 300)"
   ]
  },
  {
   "cell_type": "code",
   "execution_count": 184,
   "id": "9f67938b-79ea-48a1-8221-ddd2e1abb644",
   "metadata": {},
   "outputs": [
    {
     "data": {
      "image/png": "[encoded data removed]",
      "text/plain": [
       "<Figure size 432x288 with 1 Axes>"
      ]
     },
     "metadata": {
      "needs_background": "light"
     },
     "output_type": "display_data"
    }
   ],
   "source": [
    "plt.scatter(a, b)\n",
    "plt.show()"
   ]
  },
  {
   "cell_type": "code",
   "execution_count": null,
   "id": "5a407f80-0e5f-4db0-8e9c-d908054692fa",
   "metadata": {},
   "outputs": [],
   "source": []
  }
 ],
 "metadata": {
  "kernelspec": {
   "display_name": "Python 3 (ipykernel)",
   "language": "python",
   "name": "python3"
  },
  "language_info": {
   "codemirror_mode": {
    "name": "ipython",
    "version": 3
   },
   "file_extension": ".py",
   "mimetype": "text/x-python",
   "name": "python",
   "nbconvert_exporter": "python",
   "pygments_lexer": "ipython3",
   "version": "3.9.7"
  }
 },
 "nbformat": 4,
 "nbformat_minor": 5
}
